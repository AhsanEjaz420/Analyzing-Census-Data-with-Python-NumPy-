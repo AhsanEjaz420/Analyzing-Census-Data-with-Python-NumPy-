{
 "cells": [
  {
   "cell_type": "code",
   "execution_count": 34,
   "metadata": {
    "id": "QOepuiVEQmVL"
   },
   "outputs": [],
   "source": [
    "#import the required libraries\n",
    "import numpy as np\n",
    "import pandas as pd\n",
    "import matplotlib.pyplot as plt\n",
    "import seaborn as sns"
   ]
  },
  {
   "cell_type": "markdown",
   "metadata": {
    "id": "XJJVjthYIz6w"
   },
   "source": [
    "# Step 1 : Read the Data!"
   ]
  },
  {
   "cell_type": "code",
   "execution_count": 35,
   "metadata": {
    "id": "7xcB2zo-O0t-"
   },
   "outputs": [],
   "source": [
    "#give path of the source-file and store that path in a variable named census\n",
    "census = 'D:/junotbok/1st mini project/makeSenseOfCensus.csv'"
   ]
  },
  {
   "cell_type": "markdown",
   "metadata": {
    "id": "OiSJcx6GLcWT"
   },
   "source": [
    "# Loading the data"
   ]
  },
  {
   "cell_type": "markdown",
   "metadata": {
    "id": "VxJZY3U1nsPN"
   },
   "source": [
    "You have studied getfromtext in Numpy Classes, now is the time to put it into action :) Below is the half completed code, you have to substitute values for delimiter and skip_header in it for hte data to be properly read into a Data array. The output of the array has been shared with you guys followed by the code block"
   ]
  },
  {
   "cell_type": "code",
   "execution_count": 36,
   "metadata": {
    "colab": {
     "base_uri": "https://localhost:8080/"
    },
    "id": "Fjx-kQkxQD7q",
    "outputId": "6b33c0b4-ce04-4e6c-cb47-3ee203f4322f"
   },
   "outputs": [
    {
     "name": "stdout",
     "output_type": "stream",
     "text": [
      "\n",
      "Data:\n",
      "\n",
      "  [[39. 13.  4. ...  0. 40.  0.]\n",
      " [50. 13.  4. ...  0. 13.  0.]\n",
      " [38.  9.  4. ...  0. 40.  0.]\n",
      " ...\n",
      " [48. 13.  4. ...  0. 58.  1.]\n",
      " [40. 10.  4. ...  0. 40.  0.]\n",
      " [39. 13.  4. ...  0. 50.  1.]]\n"
     ]
    }
   ],
   "source": [
    "#data = np.genfromtxt(data_file, delimiter = , skip_header = )\n",
    "#print(\"\\nData:\\n\\n \", data)\n",
    "data = np.genfromtxt(census, delimiter = ',', skip_header = 1)\n",
    "print(\"\\nData:\\n\\n \", data)"
   ]
  },
  {
   "cell_type": "markdown",
   "metadata": {
    "id": "lLoQJxpdOCfA"
   },
   "source": [
    "# Printing the type of data"
   ]
  },
  {
   "cell_type": "code",
   "execution_count": 37,
   "metadata": {
    "colab": {
     "base_uri": "https://localhost:8080/"
    },
    "id": "xkPasCIhQ1qC",
    "outputId": "5c15ee56-e668-4338-d532-ceb6487adcf0"
   },
   "outputs": [
    {
     "name": "stdout",
     "output_type": "stream",
     "text": [
      "<class 'numpy.ndarray'>\n"
     ]
    }
   ],
   "source": [
    "#print the type of data\n",
    "print(type(data))"
   ]
  },
  {
   "cell_type": "markdown",
   "metadata": {
    "id": "QTSTCc7jVppG"
   },
   "source": [
    "# Step 2 : Append the Data"
   ]
  },
  {
   "cell_type": "markdown",
   "metadata": {
    "id": "-gz1eP4sfRpc"
   },
   "source": [
    "A new record [[50,9,4,1,0,0,40,0]] has been given to you. You are supposed to append this new record into the data using np.concatenate()"
   ]
  },
  {
   "cell_type": "code",
   "execution_count": 38,
   "metadata": {
    "id": "jokdR-EtS1dz"
   },
   "outputs": [],
   "source": [
    "new_record = [[50,9,4,1,0,0,40,0]]"
   ]
  },
  {
   "cell_type": "markdown",
   "metadata": {
    "id": "qVKX1_leVwqh"
   },
   "source": [
    "## Append 'new_record' (given) to 'data' using \"np.concatenate()\""
   ]
  },
  {
   "cell_type": "code",
   "execution_count": 39,
   "metadata": {
    "id": "V38I3c5rTJPQ"
   },
   "outputs": [
    {
     "name": "stdout",
     "output_type": "stream",
     "text": [
      "Original data:\n",
      "[[39. 13.  4. ...  0. 40.  0.]\n",
      " [50. 13.  4. ...  0. 13.  0.]\n",
      " [38.  9.  4. ...  0. 40.  0.]\n",
      " ...\n",
      " [48. 13.  4. ...  0. 58.  1.]\n",
      " [40. 10.  4. ...  0. 40.  0.]\n",
      " [39. 13.  4. ...  0. 50.  1.]]\n",
      "\n",
      "Updated data:\n",
      "[[39. 13.  4. ...  0. 40.  0.]\n",
      " [50. 13.  4. ...  0. 13.  0.]\n",
      " [38.  9.  4. ...  0. 40.  0.]\n",
      " ...\n",
      " [40. 10.  4. ...  0. 40.  0.]\n",
      " [39. 13.  4. ...  0. 50.  1.]\n",
      " [50.  9.  4. ...  0. 40.  0.]]\n"
     ]
    }
   ],
   "source": [
    "print(\"Original data:\")\n",
    "print(data)\n",
    "new_record = [[50,9,4,1,0,0,40,0]]\n",
    "data = np.concatenate((data, new_record))\n",
    "print(\"\\nUpdated data:\")\n",
    "print(data)"
   ]
  },
  {
   "cell_type": "code",
   "execution_count": 40,
   "metadata": {
    "colab": {
     "base_uri": "https://localhost:8080/"
    },
    "id": "QOWjaWI3TlP4",
    "outputId": "b87c4b40-64ac-4310-db00-99b1eaad2195"
   },
   "outputs": [
    {
     "name": "stdout",
     "output_type": "stream",
     "text": [
      "\n",
      "Updated data:\n",
      "[[39. 13.  4. ...  0. 40.  0.]\n",
      " [50. 13.  4. ...  0. 13.  0.]\n",
      " [38.  9.  4. ...  0. 40.  0.]\n",
      " ...\n",
      " [39. 13.  4. ...  0. 50.  1.]\n",
      " [50.  9.  4. ...  0. 40.  0.]\n",
      " [50.  9.  4. ...  0. 40.  0.]]\n"
     ]
    }
   ],
   "source": [
    "#display after appending the new record at the end of the array.\n",
    "new_record = [[50,9,4,1,0,0,40,0]]\n",
    "data = np.concatenate((data, new_record))\n",
    "print(\"\\nUpdated data:\")\n",
    "print(data)\n",
    "#in numpy new appended data are always at tthe end of list or array by default "
   ]
  },
  {
   "cell_type": "markdown",
   "metadata": {
    "id": "i_5WAJWYWHpL"
   },
   "source": [
    "# Step 3 : Check if it's a young country or old country"
   ]
  },
  {
   "cell_type": "markdown",
   "metadata": {
    "id": "_CqLiA9OWQPm"
   },
   "source": [
    " Create a new array called 'age' by taking only age column(age is the column with index 0) of 'census' array."
   ]
  },
  {
   "cell_type": "code",
   "execution_count": 41,
   "metadata": {
    "id": "u-v0CJlJf8XA"
   },
   "outputs": [],
   "source": [
    "census = np.genfromtxt('makeSenseOfCensus.csv', delimiter=',')\n",
    "age = census[:, 0]"
   ]
  },
  {
   "cell_type": "markdown",
   "metadata": {
    "id": "_IyNXVKqWpPS"
   },
   "source": [
    "Find the max age and store it in a variable called 'max_age'.\n",
    "\n"
   ]
  },
  {
   "cell_type": "code",
   "execution_count": 44,
   "metadata": {
    "id": "tczhOTFif33u"
   },
   "outputs": [
    {
     "name": "stdout",
     "output_type": "stream",
     "text": [
      "Maximum age: 90.0\n"
     ]
    }
   ],
   "source": [
    "#print the max_age\n",
    "max_age = np.max(age)\n",
    "#age = age[~np.isnan(age)]\n",
    "print(\"Maximum age:\", max_age)"
   ]
  },
  {
   "cell_type": "markdown",
   "metadata": {
    "id": "ywrTp3KTWu9z"
   },
   "source": [
    "Find the min age and store it in a variable called 'min_age'."
   ]
  },
  {
   "cell_type": "code",
   "execution_count": 45,
   "metadata": {
    "id": "QJ1VfCH7f0RG"
   },
   "outputs": [
    {
     "name": "stdout",
     "output_type": "stream",
     "text": [
      "Minimum age: 17.0\n"
     ]
    }
   ],
   "source": [
    "#print the min_age\n",
    "min_age = np.min(age)\n",
    "age = age[~np.isnan(age)]\n",
    "print(\"Minimum age:\", min_age)"
   ]
  },
  {
   "cell_type": "markdown",
   "metadata": {
    "id": "k6TqZMYQd8w1"
   },
   "source": [
    "Find the mean of the age and store it in a variable called 'age_mean'."
   ]
  },
  {
   "cell_type": "code",
   "execution_count": 46,
   "metadata": {
    "colab": {
     "base_uri": "https://localhost:8080/"
    },
    "id": "7dTC5eaIXs__",
    "outputId": "b23fff73-3d1f-4262-e556-9b755e1188af"
   },
   "outputs": [
    {
     "name": "stdout",
     "output_type": "stream",
     "text": [
      "Mean Age: 38.051\n"
     ]
    }
   ],
   "source": [
    "age_mean = np.mean(age)\n",
    "print(\"Mean Age:\", age_mean)"
   ]
  },
  {
   "cell_type": "markdown",
   "metadata": {
    "id": "GEDv3kfSeF9p"
   },
   "source": [
    "Find the standard deviation of the age and store it in a variable called 'age_std'"
   ]
  },
  {
   "cell_type": "code",
   "execution_count": 47,
   "metadata": {
    "colab": {
     "base_uri": "https://localhost:8080/"
    },
    "id": "SF33E4XbX8Yi",
    "outputId": "5312cffe-2ef8-499c-e65a-93ee94c6b176"
   },
   "outputs": [
    {
     "name": "stdout",
     "output_type": "stream",
     "text": [
      "Standard Age: 13.342803266180612\n"
     ]
    }
   ],
   "source": [
    "#print the age_std\n",
    "age_std = np.std(age)\n",
    "print(\"Standard Age:\", age_std)"
   ]
  },
  {
   "cell_type": "markdown",
   "metadata": {
    "id": "zfJWcybQecKB"
   },
   "source": [
    "# Step 4: Let's check the country's race distribution to identify the minorities"
   ]
  },
  {
   "cell_type": "markdown",
   "metadata": {
    "id": "SrvNIFGvef4r"
   },
   "source": [
    "Create four different arrays by subsetting 'census' array by Race column(Race is the column with index 2) and save them in 'race_0','race_1', 'race_2', 'race_3' and 'race_4' respectively(Meaning: Store the array where 'race'column has value 0 in 'race_0', so on and so forth)"
   ]
  },
  {
   "cell_type": "code",
   "execution_count": 48,
   "metadata": {
    "colab": {
     "base_uri": "https://localhost:8080/"
    },
    "id": "2iaIx6n6YHPh",
    "outputId": "a540ec02-058f-4e3b-d050-087deff6de4a"
   },
   "outputs": [],
   "source": [
    "census = np.genfromtxt('makeSenseOfCensus.csv', delimiter=',')\n",
    "race = census[:, 2]"
   ]
  },
  {
   "cell_type": "code",
   "execution_count": 49,
   "metadata": {
    "id": "OEz-yzfrYxFC"
   },
   "outputs": [
    {
     "name": "stdout",
     "output_type": "stream",
     "text": [
      "Race_0: [[34.  4.  0.  1.  0.  0. 45.  0.]\n",
      " [35. 10.  0.  0.  0.  0. 40.  0.]\n",
      " [60.  6.  0.  0.  0.  0. 10.  0.]\n",
      " [51.  9.  0.  1.  0.  0. 40.  0.]\n",
      " [25. 10.  0.  0.  0.  0. 20.  0.]\n",
      " [20.  9.  0.  1.  0.  0. 48.  0.]\n",
      " [23. 10.  0.  0.  0.  0. 25.  0.]\n",
      " [29.  9.  0.  1.  0.  0. 40.  0.]\n",
      " [27. 12.  0.  1.  0.  0. 40.  0.]\n",
      " [31. 12.  0.  0.  0.  0. 40.  0.]]\n",
      "Race_4: [[39. 13.  4. ...  0. 40.  0.]\n",
      " [50. 13.  4. ...  0. 13.  0.]\n",
      " [38.  9.  4. ...  0. 40.  0.]\n",
      " ...\n",
      " [48. 13.  4. ...  0. 58.  1.]\n",
      " [40. 10.  4. ...  0. 40.  0.]\n",
      " [39. 13.  4. ...  0. 50.  1.]]\n"
     ]
    }
   ],
   "source": [
    "race_0 = census[race == 0]\n",
    "race_1 = census[race == 1]\n",
    "race_2 = census[race == 2]\n",
    "race_3 = census[race == 3]\n",
    "race_4 = census[race == 4]\n",
    "print(\"Race_0:\", race_0)\n",
    "print(\"Race_4:\", race_4)"
   ]
  },
  {
   "cell_type": "markdown",
   "metadata": {
    "id": "thg4wOEQeo1x"
   },
   "source": [
    "Store the length of the above created arrays in 'len_0', 'len_1','len_2', 'len_3' and 'len_4' respectively"
   ]
  },
  {
   "cell_type": "code",
   "execution_count": 50,
   "metadata": {
    "id": "6Nbz3CBkZHLY"
   },
   "outputs": [],
   "source": [
    "len_0 = len(race_0)\n",
    "len_1 = len(race_1)\n",
    "len_2 = len(race_2)\n",
    "len_3 = len(race_3)\n",
    "len_4 = len(race_4)"
   ]
  },
  {
   "cell_type": "code",
   "execution_count": 51,
   "metadata": {},
   "outputs": [
    {
     "name": "stdout",
     "output_type": "stream",
     "text": [
      "Length of race_0: 10\n"
     ]
    }
   ],
   "source": [
    "#len_0\n",
    "print(\"Length of race_0:\", len_0)"
   ]
  },
  {
   "cell_type": "code",
   "execution_count": 52,
   "metadata": {
    "id": "Zm0CnpfHaWQ7"
   },
   "outputs": [
    {
     "name": "stdout",
     "output_type": "stream",
     "text": [
      "Length of race_1: 27\n"
     ]
    }
   ],
   "source": [
    "#len_1\n",
    "print(\"Length of race_1:\", len_1)"
   ]
  },
  {
   "cell_type": "code",
   "execution_count": 53,
   "metadata": {
    "id": "BmTApcJTab3j"
   },
   "outputs": [
    {
     "name": "stdout",
     "output_type": "stream",
     "text": [
      "Length of race_2: 110\n"
     ]
    }
   ],
   "source": [
    "#len_2\n",
    "print(\"Length of race_2:\", len_2)"
   ]
  },
  {
   "cell_type": "code",
   "execution_count": 54,
   "metadata": {
    "id": "O-SEHnv9afoQ"
   },
   "outputs": [
    {
     "name": "stdout",
     "output_type": "stream",
     "text": [
      "Length of race_3: 6\n"
     ]
    }
   ],
   "source": [
    "#len_3\n",
    "print(\"Length of race_3:\", len_3)"
   ]
  },
  {
   "cell_type": "code",
   "execution_count": 55,
   "metadata": {
    "id": "HksygZJFaogo"
   },
   "outputs": [
    {
     "name": "stdout",
     "output_type": "stream",
     "text": [
      "Length of race_4: 847\n"
     ]
    }
   ],
   "source": [
    "#len_4\n",
    "print(\"Length of race_4:\", len_4)"
   ]
  },
  {
   "cell_type": "markdown",
   "metadata": {
    "id": "p57jTibJezYj"
   },
   "source": [
    "Find out which is the race with the minimum no. of citizens"
   ]
  },
  {
   "cell_type": "code",
   "execution_count": 59,
   "metadata": {
    "id": "axqxJHRBdMQL"
   },
   "outputs": [
    {
     "name": "stdout",
     "output_type": "stream",
     "text": [
      "The race with the minimum number of citizens is: 3\n"
     ]
    }
   ],
   "source": [
    "race_lengths = {\n",
    "    0: len_0,\n",
    "    1: len_1,\n",
    "    2: len_2,\n",
    "    3: len_3,\n",
    "    4: len_4\n",
    "}\n",
    "min_race = min(race_lengths, key=race_lengths.get)\n",
    "print(\"The race with the minimum number of citizens is:\", min_race)"
   ]
  },
  {
   "cell_type": "markdown",
   "metadata": {
    "id": "yJVgGJLgfJcV"
   },
   "source": [
    "Find out which is the race with the maximum no. of citizens"
   ]
  },
  {
   "cell_type": "code",
   "execution_count": 60,
   "metadata": {
    "id": "LnvFjvidgdzb"
   },
   "outputs": [
    {
     "name": "stdout",
     "output_type": "stream",
     "text": [
      "The race with maximum citizen is : 4\n"
     ]
    }
   ],
   "source": [
    "race_length = {\n",
    "    0: len_0,\n",
    "    1: len_1,\n",
    "    2: len_2,\n",
    "    3: len_3,\n",
    "    4: len_4\n",
    "}\n",
    "max_race = max(race_length, key=race_length.get)\n",
    "print(\"The race with maximum citizen is :\", max_race)"
   ]
  },
  {
   "cell_type": "markdown",
   "metadata": {
    "id": "OJmzGHoZfSHv"
   },
   "source": [
    "Store the number associated with the minority race in a variable called 'minority_race'(For eg: if \"len(race_5)\" is the minimum, store 5 in 'minority_race' because that is the index of the race having the least no. of citizens )"
   ]
  },
  {
   "cell_type": "code",
   "execution_count": 23,
   "metadata": {
    "id": "xi96yzv9gmar"
   },
   "outputs": [
    {
     "name": "stdout",
     "output_type": "stream",
     "text": [
      "The race with minimum citizen is : 3\n"
     ]
    }
   ],
   "source": [
    "minority_race = min(race_length, key=race_length.get)\n",
    "print(\"The race with minimum citizen is :\", minority_race)"
   ]
  },
  {
   "cell_type": "markdown",
   "metadata": {
    "id": "jrg7qCPZhwnu"
   },
   "source": [
    "Store the number associated with the minority race in a variable called 'majority_race'(For eg: if \"len(race_5)\" is the minimum, store 5 in 'majority_race' because that is the index of the race having the least no. of citizens )"
   ]
  },
  {
   "cell_type": "code",
   "execution_count": 24,
   "metadata": {
    "id": "A3IPB6qMgocF"
   },
   "outputs": [
    {
     "name": "stdout",
     "output_type": "stream",
     "text": [
      "The race with maximum citizen is : 4\n"
     ]
    }
   ],
   "source": [
    "majority_race = max(race_length, key=race_length.get)\n",
    "print(\"The race with maximum citizen is :\", majority_race)"
   ]
  },
  {
   "cell_type": "markdown",
   "metadata": {
    "id": "E1Rwgqxf9F9V"
   },
   "source": [
    "# Step 5: As per govt. records citizens above 60 should not work more than 25 hours a week. Let us check if the policy is in place"
   ]
  },
  {
   "cell_type": "markdown",
   "metadata": {
    "id": "XT4Jy_Wn9Vww"
   },
   "source": [
    "a.Create a new subset array called 'senior_citizens' by filtering 'census' according to age>60 (age is the column with index 0)"
   ]
  },
  {
   "cell_type": "markdown",
   "metadata": {
    "id": "6AEHuxcS-uGh"
   },
   "source": [
    "[Row,Columns]  :"
   ]
  },
  {
   "cell_type": "code",
   "execution_count": 25,
   "metadata": {
    "colab": {
     "base_uri": "https://localhost:8080/"
    },
    "id": "oX6E5VZv9Z4j",
    "outputId": "cc545ce0-84fe-4e14-a8b5-9ce2beb20729"
   },
   "outputs": [
    {
     "name": "stdout",
     "output_type": "stream",
     "text": [
      "Senior citizens: [[7.9000e+01 1.0000e+01 4.0000e+00 1.0000e+00 0.0000e+00 0.0000e+00\n",
      "  2.0000e+01 0.0000e+00]\n",
      " [6.7000e+01 6.0000e+00 4.0000e+00 1.0000e+00 0.0000e+00 0.0000e+00\n",
      "  2.0000e+00 0.0000e+00]\n",
      " [7.6000e+01 1.4000e+01 4.0000e+00 1.0000e+00 0.0000e+00 0.0000e+00\n",
      "  4.0000e+01 1.0000e+00]\n",
      " [6.1000e+01 9.0000e+00 4.0000e+00 1.0000e+00 0.0000e+00 0.0000e+00\n",
      "  4.0000e+01 0.0000e+00]\n",
      " [7.0000e+01 1.0000e+01 4.0000e+00 1.0000e+00 0.0000e+00 0.0000e+00\n",
      "  4.0000e+01 0.0000e+00]\n",
      " [6.4000e+01 7.0000e+00 4.0000e+00 1.0000e+00 0.0000e+00 2.1790e+03\n",
      "  4.0000e+01 0.0000e+00]\n",
      " [7.1000e+01 1.0000e+01 2.0000e+00 1.0000e+00 0.0000e+00 1.8160e+03\n",
      "  2.0000e+00 0.0000e+00]\n",
      " [6.8000e+01 2.0000e+00 4.0000e+00 0.0000e+00 0.0000e+00 0.0000e+00\n",
      "  2.0000e+01 0.0000e+00]\n",
      " [6.6000e+01 1.1000e+01 4.0000e+00 0.0000e+00 0.0000e+00 0.0000e+00\n",
      "  2.0000e+01 0.0000e+00]\n",
      " [6.4000e+01 2.0000e+00 4.0000e+00 1.0000e+00 0.0000e+00 0.0000e+00\n",
      "  4.0000e+01 0.0000e+00]\n",
      " [9.0000e+01 9.0000e+00 2.0000e+00 1.0000e+00 0.0000e+00 2.2060e+03\n",
      "  4.0000e+01 0.0000e+00]\n",
      " [6.6000e+01 9.0000e+00 4.0000e+00 1.0000e+00 1.4090e+03 0.0000e+00\n",
      "  5.0000e+01 0.0000e+00]\n",
      " [7.5000e+01 1.1000e+01 4.0000e+00 0.0000e+00 0.0000e+00 0.0000e+00\n",
      "  2.0000e+01 0.0000e+00]\n",
      " [6.5000e+01 9.0000e+00 4.0000e+00 0.0000e+00 0.0000e+00 0.0000e+00\n",
      "  4.0000e+01 0.0000e+00]\n",
      " [6.4000e+01 9.0000e+00 4.0000e+00 1.0000e+00 0.0000e+00 0.0000e+00\n",
      "  4.0000e+01 1.0000e+00]\n",
      " [6.1000e+01 9.0000e+00 4.0000e+00 1.0000e+00 0.0000e+00 0.0000e+00\n",
      "  4.0000e+01 1.0000e+00]\n",
      " [6.5000e+01 9.0000e+00 4.0000e+00 1.0000e+00 0.0000e+00 0.0000e+00\n",
      "  1.6000e+01 0.0000e+00]\n",
      " [7.7000e+01 1.0000e+01 4.0000e+00 1.0000e+00 0.0000e+00 0.0000e+00\n",
      "  4.0000e+01 0.0000e+00]\n",
      " [6.2000e+01 9.0000e+00 4.0000e+00 0.0000e+00 0.0000e+00 0.0000e+00\n",
      "  2.4000e+01 0.0000e+00]\n",
      " [7.6000e+01 1.4000e+01 4.0000e+00 1.0000e+00 0.0000e+00 0.0000e+00\n",
      "  1.0000e+01 0.0000e+00]\n",
      " [6.3000e+01 9.0000e+00 4.0000e+00 1.0000e+00 0.0000e+00 0.0000e+00\n",
      "  4.5000e+01 0.0000e+00]\n",
      " [6.6000e+01 9.0000e+00 4.0000e+00 1.0000e+00 2.0500e+03 0.0000e+00\n",
      "  5.5000e+01 0.0000e+00]\n",
      " [6.7000e+01 7.0000e+00 4.0000e+00 1.0000e+00 0.0000e+00 0.0000e+00\n",
      "  8.0000e+00 0.0000e+00]\n",
      " [6.5000e+01 7.0000e+00 3.0000e+00 1.0000e+00 0.0000e+00 0.0000e+00\n",
      "  4.0000e+01 0.0000e+00]\n",
      " [6.2000e+01 1.4000e+01 4.0000e+00 1.0000e+00 0.0000e+00 0.0000e+00\n",
      "  4.0000e+01 1.0000e+00]\n",
      " [6.3000e+01 9.0000e+00 4.0000e+00 1.0000e+00 0.0000e+00 0.0000e+00\n",
      "  4.0000e+01 1.0000e+00]\n",
      " [8.0000e+01 9.0000e+00 4.0000e+00 1.0000e+00 0.0000e+00 0.0000e+00\n",
      "  2.4000e+01 0.0000e+00]\n",
      " [6.7000e+01 1.1000e+01 4.0000e+00 0.0000e+00 0.0000e+00 0.0000e+00\n",
      "  2.4000e+01 0.0000e+00]\n",
      " [6.3000e+01 2.0000e+00 4.0000e+00 1.0000e+00 0.0000e+00 0.0000e+00\n",
      "  3.5000e+01 0.0000e+00]\n",
      " [7.2000e+01 9.0000e+00 4.0000e+00 1.0000e+00 0.0000e+00 0.0000e+00\n",
      "  2.0000e+01 0.0000e+00]\n",
      " [6.2000e+01 9.0000e+00 4.0000e+00 1.0000e+00 0.0000e+00 0.0000e+00\n",
      "  4.0000e+01 0.0000e+00]\n",
      " [7.4000e+01 1.0000e+01 4.0000e+00 0.0000e+00 0.0000e+00 0.0000e+00\n",
      "  9.0000e+00 0.0000e+00]\n",
      " [6.7000e+01 1.5000e+01 4.0000e+00 1.0000e+00 2.0051e+04 0.0000e+00\n",
      "  4.8000e+01 1.0000e+00]\n",
      " [7.2000e+01 7.0000e+00 4.0000e+00 0.0000e+00 0.0000e+00 0.0000e+00\n",
      "  4.0000e+01 0.0000e+00]\n",
      " [6.9000e+01 7.0000e+00 4.0000e+00 0.0000e+00 0.0000e+00 0.0000e+00\n",
      "  4.0000e+01 0.0000e+00]\n",
      " [6.5000e+01 1.0000e+01 4.0000e+00 1.0000e+00 0.0000e+00 0.0000e+00\n",
      "  3.0000e+01 1.0000e+00]\n",
      " [6.5000e+01 5.0000e+00 2.0000e+00 0.0000e+00 0.0000e+00 0.0000e+00\n",
      "  2.4000e+01 0.0000e+00]\n",
      " [7.1000e+01 9.0000e+00 4.0000e+00 1.0000e+00 0.0000e+00 0.0000e+00\n",
      "  1.5000e+01 0.0000e+00]\n",
      " [7.0000e+01 5.0000e+00 4.0000e+00 0.0000e+00 1.1110e+03 0.0000e+00\n",
      "  1.5000e+01 0.0000e+00]\n",
      " [6.6000e+01 4.0000e+00 4.0000e+00 1.0000e+00 0.0000e+00 0.0000e+00\n",
      "  4.0000e+00 0.0000e+00]\n",
      " [6.5000e+01 7.0000e+00 4.0000e+00 1.0000e+00 9.3860e+03 0.0000e+00\n",
      "  5.9000e+01 1.0000e+00]\n",
      " [6.1000e+01 9.0000e+00 4.0000e+00 1.0000e+00 0.0000e+00 2.3520e+03\n",
      "  5.0000e+01 0.0000e+00]\n",
      " [6.1000e+01 9.0000e+00 4.0000e+00 1.0000e+00 0.0000e+00 0.0000e+00\n",
      "  4.0000e+01 0.0000e+00]\n",
      " [6.8000e+01 7.0000e+00 4.0000e+00 1.0000e+00 0.0000e+00 0.0000e+00\n",
      "  2.0000e+01 0.0000e+00]\n",
      " [6.4000e+01 1.3000e+01 4.0000e+00 1.0000e+00 0.0000e+00 0.0000e+00\n",
      "  4.0000e+01 1.0000e+00]\n",
      " [6.4000e+01 9.0000e+00 4.0000e+00 1.0000e+00 0.0000e+00 0.0000e+00\n",
      "  4.5000e+01 0.0000e+00]\n",
      " [6.2000e+01 9.0000e+00 4.0000e+00 0.0000e+00 0.0000e+00 0.0000e+00\n",
      "  4.0000e+01 0.0000e+00]\n",
      " [7.3000e+01 9.0000e+00 4.0000e+00 1.0000e+00 0.0000e+00 0.0000e+00\n",
      "  4.0000e+01 0.0000e+00]\n",
      " [7.2000e+01 7.0000e+00 4.0000e+00 0.0000e+00 0.0000e+00 0.0000e+00\n",
      "  2.4000e+01 0.0000e+00]\n",
      " [6.3000e+01 9.0000e+00 4.0000e+00 1.0000e+00 0.0000e+00 0.0000e+00\n",
      "  6.0000e+00 0.0000e+00]\n",
      " [6.2000e+01 1.3000e+01 4.0000e+00 0.0000e+00 0.0000e+00 0.0000e+00\n",
      "  4.8000e+01 0.0000e+00]\n",
      " [6.1000e+01 1.4000e+01 4.0000e+00 0.0000e+00 0.0000e+00 0.0000e+00\n",
      "  4.0000e+01 1.0000e+00]\n",
      " [7.1000e+01 1.4000e+01 4.0000e+00 1.0000e+00 1.0605e+04 0.0000e+00\n",
      "  4.0000e+01 1.0000e+00]\n",
      " [6.3000e+01 1.0000e+01 4.0000e+00 1.0000e+00 0.0000e+00 0.0000e+00\n",
      "  1.5000e+01 0.0000e+00]\n",
      " [6.3000e+01 4.0000e+00 4.0000e+00 1.0000e+00 0.0000e+00 0.0000e+00\n",
      "  5.5000e+01 0.0000e+00]\n",
      " [6.7000e+01 9.0000e+00 1.0000e+00 1.0000e+00 0.0000e+00 0.0000e+00\n",
      "  4.0000e+01 1.0000e+00]\n",
      " [8.1000e+01 9.0000e+00 4.0000e+00 1.0000e+00 0.0000e+00 0.0000e+00\n",
      "  3.0000e+01 0.0000e+00]\n",
      " [6.4000e+01 9.0000e+00 4.0000e+00 1.0000e+00 0.0000e+00 0.0000e+00\n",
      "  5.0000e+00 0.0000e+00]\n",
      " [6.7000e+01 1.3000e+01 4.0000e+00 1.0000e+00 0.0000e+00 2.3920e+03\n",
      "  4.0000e+01 1.0000e+00]\n",
      " [7.8000e+01 9.0000e+00 2.0000e+00 0.0000e+00 2.9640e+03 0.0000e+00\n",
      "  4.0000e+01 0.0000e+00]\n",
      " [6.3000e+01 1.1000e+01 4.0000e+00 0.0000e+00 0.0000e+00 0.0000e+00\n",
      "  2.0000e+01 0.0000e+00]]\n"
     ]
    }
   ],
   "source": [
    "#from age column, filter out age data > 60\n",
    "senior_citizens = census[census[:, 0] > 60]\n",
    "print(\"Senior citizens:\", senior_citizens)"
   ]
  },
  {
   "cell_type": "markdown",
   "metadata": {
    "id": "mDbsg8N0_K8b"
   },
   "source": [
    "b.Add all the working hours(working hours is the column with index 6) of 'senior_citizens' and store it in a variable called 'working_hours_sum'"
   ]
  },
  {
   "cell_type": "code",
   "execution_count": 63,
   "metadata": {
    "id": "fYZTR7EMgupn"
   },
   "outputs": [
    {
     "name": "stdout",
     "output_type": "stream",
     "text": [
      "Total working hours of senior citizens: 1917.0\n"
     ]
    }
   ],
   "source": [
    "working_hours_sum = np.sum(senior_citizens[:, 6])\n",
    "print(\"Total working hours of senior citizens:\", working_hours_sum)"
   ]
  },
  {
   "cell_type": "markdown",
   "metadata": {
    "id": "l4h6_8DfBD9x"
   },
   "source": [
    "c.Find the length of 'senior_citizens' and store it in a variable called 'senior_citizens_len'"
   ]
  },
  {
   "cell_type": "code",
   "execution_count": 64,
   "metadata": {},
   "outputs": [
    {
     "name": "stdout",
     "output_type": "stream",
     "text": [
      "Number of senior citizens: 61\n"
     ]
    }
   ],
   "source": [
    "senior_citizens_len = senior_citizens.shape[0]\n",
    "\n",
    "print(\"Number of senior citizens:\", senior_citizens_len)"
   ]
  },
  {
   "cell_type": "markdown",
   "metadata": {
    "id": "-6mWgLiXBgAW"
   },
   "source": [
    "d. Finally find the average working hours of the senior citizens by dividing 'working_hours_sum' by 'senior_citizens_len' and store it in a variable called 'avg_working hours'."
   ]
  },
  {
   "cell_type": "code",
   "execution_count": 65,
   "metadata": {
    "id": "AOwajHabgy29"
   },
   "outputs": [
    {
     "name": "stdout",
     "output_type": "stream",
     "text": [
      "Average working hours of senior citizens: 31.42622950819672\n"
     ]
    }
   ],
   "source": [
    "avg_working_hours = working_hours_sum / senior_citizens_len\n",
    "print(\"Average working hours of senior citizens:\", avg_working_hours)"
   ]
  },
  {
   "cell_type": "markdown",
   "metadata": {
    "id": "VS382pv_CY1Q"
   },
   "source": [
    "e. Print 'avg_working_hours' and see if the govt. policy is followed."
   ]
  },
  {
   "cell_type": "code",
   "execution_count": 69,
   "metadata": {
    "id": "NatAJ4JBgzr4"
   },
   "outputs": [
    {
     "name": "stdout",
     "output_type": "stream",
     "text": [
      " The government policy is not followed.\n"
     ]
    }
   ],
   "source": [
    "avg_working_hours = working_hours_sum / senior_citizens_len\n",
    "govt_policy_hours = 25\n",
    "if avg_working_hours > govt_policy_hours:\n",
    "    print(\" The government policy is not followed.\")\n",
    "else:\n",
    "    (\"The government policy is followed.\")"
   ]
  },
  {
   "cell_type": "markdown",
   "metadata": {
    "id": "KRGhpDBKEIa-"
   },
   "source": [
    "# Step 6: Let's check that higher educated people have better pay in general."
   ]
  },
  {
   "cell_type": "markdown",
   "metadata": {
    "id": "-5rc9FarELwP"
   },
   "source": [
    "Create two new subset arrays called 'high' and 'low' by filtering 'census' according to education-num>10 and education-num<=10 (education-num is the column with index 1) respectively.\n",
    "\n"
   ]
  },
  {
   "cell_type": "code",
   "execution_count": 70,
   "metadata": {
    "id": "GVA3Dgp5g2Ui"
   },
   "outputs": [],
   "source": [
    "high = [row for row in census if row[1] > 10]\n",
    "low = [row for row in census if row[1] <= 10]"
   ]
  },
  {
   "cell_type": "markdown",
   "metadata": {
    "id": "I4MwXFEbFEjV"
   },
   "source": [
    "Find the mean of income column(income is the column with index 7) of 'high' array and store it in 'avg_pay_high'. Do the same for 'low' array and store it's mean in 'avg_pay_low'."
   ]
  },
  {
   "cell_type": "code",
   "execution_count": 71,
   "metadata": {},
   "outputs": [],
   "source": [
    "\n",
    "high = census[census[:, 1] > 10]\n",
    "low = census[census[:, 1] <= 10]"
   ]
  },
  {
   "cell_type": "code",
   "execution_count": 72,
   "metadata": {},
   "outputs": [],
   "source": [
    "avg_pay_high = np.mean(high[:, 7])\n",
    "avg_pay_low = np.mean(low[:, 7])"
   ]
  },
  {
   "cell_type": "code",
   "execution_count": 73,
   "metadata": {},
   "outputs": [
    {
     "name": "stdout",
     "output_type": "stream",
     "text": [
      "avg_pay_high Mean: 0.42813455657492355\n",
      "avg_pay_low Mean: 0.13670133729569092\n"
     ]
    }
   ],
   "source": [
    "print(\"avg_pay_high Mean:\", avg_pay_high)\n",
    "print(\"avg_pay_low Mean:\", avg_pay_low)"
   ]
  },
  {
   "cell_type": "code",
   "execution_count": null,
   "metadata": {},
   "outputs": [],
   "source": []
  }
 ],
 "metadata": {
  "colab": {
   "provenance": []
  },
  "kernelspec": {
   "display_name": "Python 3 (ipykernel)",
   "language": "python",
   "name": "python3"
  },
  "language_info": {
   "codemirror_mode": {
    "name": "ipython",
    "version": 3
   },
   "file_extension": ".py",
   "mimetype": "text/x-python",
   "name": "python",
   "nbconvert_exporter": "python",
   "pygments_lexer": "ipython3",
   "version": "3.12.4"
  }
 },
 "nbformat": 4,
 "nbformat_minor": 4
}
